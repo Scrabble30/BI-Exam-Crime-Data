{
 "cells": [
  {
   "cell_type": "code",
   "execution_count": 19,
   "id": "62b63696",
   "metadata": {},
   "outputs": [],
   "source": [
    "import sys\n",
    "import os\n",
    "sys.path.append(os.path.abspath(\"..\"))\n",
    "\n",
    "# for numeric calculations\n",
    "import numpy as np\n",
    "\n",
    "# Import LabelEncoder\n",
    "from sklearn.preprocessing import LabelEncoder\n",
    "\n",
    "# Import the DstApi utility class\n",
    "from dstapi.dstapi import DstApi"
   ]
  },
  {
   "cell_type": "code",
   "execution_count": 20,
   "id": "751bd296",
   "metadata": {},
   "outputs": [
    {
     "name": "stdout",
     "output_type": "stream",
     "text": [
      "Table RECIDIV6: Personer efter køn, alder, uddannelse, varighed til tilbagefald og tid\n",
      "Last update: 2024-11-07T08:00:00\n"
     ]
    },
    {
     "data": {
      "text/html": [
       "<div>\n",
       "<style scoped>\n",
       "    .dataframe tbody tr th:only-of-type {\n",
       "        vertical-align: middle;\n",
       "    }\n",
       "\n",
       "    .dataframe tbody tr th {\n",
       "        vertical-align: top;\n",
       "    }\n",
       "\n",
       "    .dataframe thead th {\n",
       "        text-align: right;\n",
       "    }\n",
       "</style>\n",
       "<table border=\"1\" class=\"dataframe\">\n",
       "  <thead>\n",
       "    <tr style=\"text-align: right;\">\n",
       "      <th></th>\n",
       "      <th>variable name</th>\n",
       "      <th># values</th>\n",
       "      <th>First value</th>\n",
       "      <th>First value label</th>\n",
       "      <th>Last value</th>\n",
       "      <th>Last value label</th>\n",
       "      <th>Time variable</th>\n",
       "    </tr>\n",
       "  </thead>\n",
       "  <tbody>\n",
       "    <tr>\n",
       "      <th>0</th>\n",
       "      <td>KØN</td>\n",
       "      <td>3</td>\n",
       "      <td>TOT</td>\n",
       "      <td>I alt</td>\n",
       "      <td>K</td>\n",
       "      <td>Kvinder</td>\n",
       "      <td>False</td>\n",
       "    </tr>\n",
       "    <tr>\n",
       "      <th>1</th>\n",
       "      <td>ALDER1</td>\n",
       "      <td>9</td>\n",
       "      <td>00</td>\n",
       "      <td>I alt</td>\n",
       "      <td>6099</td>\n",
       "      <td>60 år og derover</td>\n",
       "      <td>False</td>\n",
       "    </tr>\n",
       "    <tr>\n",
       "      <th>2</th>\n",
       "      <td>UDDANNELSE</td>\n",
       "      <td>6</td>\n",
       "      <td>TOT</td>\n",
       "      <td>I alt</td>\n",
       "      <td>00</td>\n",
       "      <td>Uoplyst uddannelse</td>\n",
       "      <td>False</td>\n",
       "    </tr>\n",
       "    <tr>\n",
       "      <th>3</th>\n",
       "      <td>VARTILBAGE</td>\n",
       "      <td>5</td>\n",
       "      <td>00</td>\n",
       "      <td>I alt</td>\n",
       "      <td>1324</td>\n",
       "      <td>Efter 1 år og indenfor 2 år</td>\n",
       "      <td>False</td>\n",
       "    </tr>\n",
       "    <tr>\n",
       "      <th>4</th>\n",
       "      <td>Tid</td>\n",
       "      <td>13</td>\n",
       "      <td>2008:2010</td>\n",
       "      <td>2008:2010</td>\n",
       "      <td>2020:2022</td>\n",
       "      <td>2020:2022</td>\n",
       "      <td>True</td>\n",
       "    </tr>\n",
       "  </tbody>\n",
       "</table>\n",
       "</div>"
      ],
      "text/plain": [
       "  variable name  # values First value First value label Last value  \\\n",
       "0           KØN         3         TOT             I alt          K   \n",
       "1        ALDER1         9          00             I alt       6099   \n",
       "2    UDDANNELSE         6         TOT             I alt         00   \n",
       "3    VARTILBAGE         5          00             I alt       1324   \n",
       "4           Tid        13   2008:2010         2008:2010  2020:2022   \n",
       "\n",
       "              Last value label  Time variable  \n",
       "0                      Kvinder          False  \n",
       "1             60 år og derover          False  \n",
       "2           Uoplyst uddannelse          False  \n",
       "3  Efter 1 år og indenfor 2 år          False  \n",
       "4                    2020:2022           True  "
      ]
     },
     "execution_count": 20,
     "metadata": {},
     "output_type": "execute_result"
    }
   ],
   "source": [
    "# Initialize the class with the target table\n",
    "table_name = 'RECIDIV6'\n",
    "data_table = DstApi(table_name)\n",
    "\n",
    "# Get the table summary\n",
    "data_table.tablesummary(language='da')"
   ]
  },
  {
   "cell_type": "code",
   "execution_count": 21,
   "id": "ccdd61c1",
   "metadata": {},
   "outputs": [
    {
     "data": {
      "text/plain": [
       "{'table': 'recidiv6',\n",
       " 'format': 'csv',\n",
       " 'lang': 'da',\n",
       " 'variables': [{'code': 'KØN', 'values': ['*']},\n",
       "  {'code': 'ALDER1', 'values': ['*']},\n",
       "  {'code': 'UDDANNELSE', 'values': ['*']},\n",
       "  {'code': 'VARTILBAGE', 'values': ['*']},\n",
       "  {'code': 'Tid', 'values': ['*']}]}"
      ]
     },
     "execution_count": 21,
     "metadata": {},
     "output_type": "execute_result"
    }
   ],
   "source": [
    "# Start by constructing a basic dictionary\n",
    "params = data_table.define_base_params(language='da')\n",
    "params['format'] = 'csv'\n",
    "\n",
    "params"
   ]
  },
  {
   "cell_type": "code",
   "execution_count": 22,
   "id": "e18441f6",
   "metadata": {},
   "outputs": [],
   "source": [
    "# Variable exclusion rules\n",
    "exclusions = {\n",
    "    '*': ['I alt']  # Will be applied to all variables in addition to specific ones\n",
    "}"
   ]
  },
  {
   "cell_type": "code",
   "execution_count": 23,
   "id": "4216f75a",
   "metadata": {},
   "outputs": [],
   "source": [
    "for var in params['variables']:\n",
    "    # Extract all possible values for this column\n",
    "    levels = data_table.variable_levels(var['code'], language='da')\n",
    "\n",
    "    # Gather exclusions: specific + global\n",
    "    exclude_texts = set(exclusions.get(var['code'], [])) | set(exclusions.get('*', []))\n",
    "\n",
    "    # Exclude specified text values\n",
    "    levels = levels[~levels['text'].isin(exclude_texts)]\n",
    "\n",
    "    # Assign the filtered id values\n",
    "    var['values'] = levels['id'].tolist()"
   ]
  },
  {
   "cell_type": "code",
   "execution_count": 24,
   "id": "d065e93d",
   "metadata": {},
   "outputs": [
    {
     "data": {
      "text/plain": [
       "{'table': 'recidiv6',\n",
       " 'format': 'csv',\n",
       " 'lang': 'da',\n",
       " 'variables': [{'code': 'KØN', 'values': ['M', 'K']},\n",
       "  {'code': 'ALDER1',\n",
       "   'values': ['1519', '2024', '2529', '3034', '3539', '4049', '5059', '6099']},\n",
       "  {'code': 'UDDANNELSE', 'values': ['10', '20', '35', '40', '00']},\n",
       "  {'code': 'VARTILBAGE', 'values': ['0000', '0006', '0712', '1324']},\n",
       "  {'code': 'Tid',\n",
       "   'values': ['2008:2010',\n",
       "    '2009:2011',\n",
       "    '2010:2012',\n",
       "    '2011:2013',\n",
       "    '2012:2014',\n",
       "    '2013:2015',\n",
       "    '2014:2016',\n",
       "    '2015:2017',\n",
       "    '2016:2018',\n",
       "    '2017:2019',\n",
       "    '2018:2020',\n",
       "    '2019:2021',\n",
       "    '2020:2022']}]}"
      ]
     },
     "execution_count": 24,
     "metadata": {},
     "output_type": "execute_result"
    }
   ],
   "source": [
    "params"
   ]
  },
  {
   "cell_type": "code",
   "execution_count": 25,
   "id": "6fd2d7bc",
   "metadata": {},
   "outputs": [],
   "source": [
    "# Fetch all the data from the table with the specified params\n",
    "df = data_table.get_data(params=params)"
   ]
  },
  {
   "cell_type": "code",
   "execution_count": 26,
   "id": "df05552f",
   "metadata": {},
   "outputs": [
    {
     "data": {
      "text/plain": [
       "(4160, 6)"
      ]
     },
     "execution_count": 26,
     "metadata": {},
     "output_type": "execute_result"
    }
   ],
   "source": [
    "df.shape"
   ]
  },
  {
   "cell_type": "code",
   "execution_count": 27,
   "id": "f660a79e",
   "metadata": {},
   "outputs": [
    {
     "data": {
      "text/html": [
       "<div>\n",
       "<style scoped>\n",
       "    .dataframe tbody tr th:only-of-type {\n",
       "        vertical-align: middle;\n",
       "    }\n",
       "\n",
       "    .dataframe tbody tr th {\n",
       "        vertical-align: top;\n",
       "    }\n",
       "\n",
       "    .dataframe thead th {\n",
       "        text-align: right;\n",
       "    }\n",
       "</style>\n",
       "<table border=\"1\" class=\"dataframe\">\n",
       "  <thead>\n",
       "    <tr style=\"text-align: right;\">\n",
       "      <th></th>\n",
       "      <th>KØN</th>\n",
       "      <th>ALDER1</th>\n",
       "      <th>UDDANNELSE</th>\n",
       "      <th>VARTILBAGE</th>\n",
       "      <th>TID</th>\n",
       "      <th>INDHOLD</th>\n",
       "    </tr>\n",
       "  </thead>\n",
       "  <tbody>\n",
       "    <tr>\n",
       "      <th>3683</th>\n",
       "      <td>Kvinder</td>\n",
       "      <td>50-59 år</td>\n",
       "      <td>Grundskole</td>\n",
       "      <td>Efter 1 år og indenfor 2 år</td>\n",
       "      <td>2012:2014</td>\n",
       "      <td>97</td>\n",
       "    </tr>\n",
       "    <tr>\n",
       "      <th>914</th>\n",
       "      <td>Mænd</td>\n",
       "      <td>30-34 år</td>\n",
       "      <td>Erhvervsuddannelse</td>\n",
       "      <td>Efter 6 måneder og indenfor 1 år</td>\n",
       "      <td>2012:2014</td>\n",
       "      <td>366</td>\n",
       "    </tr>\n",
       "    <tr>\n",
       "      <th>3838</th>\n",
       "      <td>Kvinder</td>\n",
       "      <td>50-59 år</td>\n",
       "      <td>Videregående uddannelse</td>\n",
       "      <td>Efter 1 år og indenfor 2 år</td>\n",
       "      <td>2011:2013</td>\n",
       "      <td>78</td>\n",
       "    </tr>\n",
       "    <tr>\n",
       "      <th>3059</th>\n",
       "      <td>Kvinder</td>\n",
       "      <td>30-34 år</td>\n",
       "      <td>Videregående uddannelse</td>\n",
       "      <td>Efter 1 år og indenfor 2 år</td>\n",
       "      <td>2012:2014</td>\n",
       "      <td>48</td>\n",
       "    </tr>\n",
       "    <tr>\n",
       "      <th>1360</th>\n",
       "      <td>Mænd</td>\n",
       "      <td>40-49 år</td>\n",
       "      <td>Gymnasial uddannelse</td>\n",
       "      <td>Ingen tilbagefald</td>\n",
       "      <td>2016:2018</td>\n",
       "      <td>988</td>\n",
       "    </tr>\n",
       "  </tbody>\n",
       "</table>\n",
       "</div>"
      ],
      "text/plain": [
       "          KØN    ALDER1               UDDANNELSE  \\\n",
       "3683  Kvinder  50-59 år               Grundskole   \n",
       "914      Mænd  30-34 år       Erhvervsuddannelse   \n",
       "3838  Kvinder  50-59 år  Videregående uddannelse   \n",
       "3059  Kvinder  30-34 år  Videregående uddannelse   \n",
       "1360     Mænd  40-49 år     Gymnasial uddannelse   \n",
       "\n",
       "                            VARTILBAGE        TID  INDHOLD  \n",
       "3683       Efter 1 år og indenfor 2 år  2012:2014       97  \n",
       "914   Efter 6 måneder og indenfor 1 år  2012:2014      366  \n",
       "3838       Efter 1 år og indenfor 2 år  2011:2013       78  \n",
       "3059       Efter 1 år og indenfor 2 år  2012:2014       48  \n",
       "1360                 Ingen tilbagefald  2016:2018      988  "
      ]
     },
     "execution_count": 27,
     "metadata": {},
     "output_type": "execute_result"
    }
   ],
   "source": [
    "df.sample(5)"
   ]
  },
  {
   "cell_type": "code",
   "execution_count": 28,
   "id": "db493a65",
   "metadata": {},
   "outputs": [],
   "source": [
    "# Construct the path\n",
    "directory = f\"../Data/{table_name}\"\n",
    "filename = f\"Cleaned{table_name}.csv\"\n",
    "filepath = os.path.join(directory, filename)\n",
    "\n",
    "# Ensure the directory exists\n",
    "os.makedirs(directory, exist_ok=True)\n",
    "\n",
    "# Save the DataFrame\n",
    "df.to_csv(filepath, index=False)"
   ]
  },
  {
   "cell_type": "code",
   "execution_count": 29,
   "id": "472b66e6",
   "metadata": {},
   "outputs": [],
   "source": [
    "# Select all the columns that are not numeric\n",
    "data_column_category = df.select_dtypes(exclude=[np.number]).columns"
   ]
  },
  {
   "cell_type": "code",
   "execution_count": 30,
   "id": "b85dbc9a",
   "metadata": {},
   "outputs": [
    {
     "data": {
      "text/plain": [
       "Index(['KØN', 'ALDER1', 'UDDANNELSE', 'VARTILBAGE', 'TID'], dtype='object')"
      ]
     },
     "execution_count": 30,
     "metadata": {},
     "output_type": "execute_result"
    }
   ],
   "source": [
    "# Select all the columns that are not numeric\n",
    "data_column_category = df.select_dtypes(exclude=[np.number]).columns\n",
    "# View column categories\n",
    "data_column_category"
   ]
  },
  {
   "cell_type": "code",
   "execution_count": 31,
   "id": "0a7e54d2",
   "metadata": {},
   "outputs": [
    {
     "data": {
      "text/html": [
       "<div>\n",
       "<style scoped>\n",
       "    .dataframe tbody tr th:only-of-type {\n",
       "        vertical-align: middle;\n",
       "    }\n",
       "\n",
       "    .dataframe tbody tr th {\n",
       "        vertical-align: top;\n",
       "    }\n",
       "\n",
       "    .dataframe thead th {\n",
       "        text-align: right;\n",
       "    }\n",
       "</style>\n",
       "<table border=\"1\" class=\"dataframe\">\n",
       "  <thead>\n",
       "    <tr style=\"text-align: right;\">\n",
       "      <th></th>\n",
       "      <th>KØN</th>\n",
       "      <th>ALDER1</th>\n",
       "      <th>UDDANNELSE</th>\n",
       "      <th>VARTILBAGE</th>\n",
       "      <th>TID</th>\n",
       "    </tr>\n",
       "  </thead>\n",
       "  <tbody>\n",
       "    <tr>\n",
       "      <th>1045</th>\n",
       "      <td>Mænd</td>\n",
       "      <td>35-39 år</td>\n",
       "      <td>Grundskole</td>\n",
       "      <td>Ingen tilbagefald</td>\n",
       "      <td>2013:2015</td>\n",
       "    </tr>\n",
       "    <tr>\n",
       "      <th>3895</th>\n",
       "      <td>Kvinder</td>\n",
       "      <td>50-59 år</td>\n",
       "      <td>Uoplyst uddannelse</td>\n",
       "      <td>Efter 1 år og indenfor 2 år</td>\n",
       "      <td>2016:2018</td>\n",
       "    </tr>\n",
       "    <tr>\n",
       "      <th>1141</th>\n",
       "      <td>Mænd</td>\n",
       "      <td>35-39 år</td>\n",
       "      <td>Gymnasial uddannelse</td>\n",
       "      <td>Efter 1 år og indenfor 2 år</td>\n",
       "      <td>2018:2020</td>\n",
       "    </tr>\n",
       "    <tr>\n",
       "      <th>3393</th>\n",
       "      <td>Kvinder</td>\n",
       "      <td>40-49 år</td>\n",
       "      <td>Grundskole</td>\n",
       "      <td>I løbet af 6 måneder</td>\n",
       "      <td>2008:2010</td>\n",
       "    </tr>\n",
       "    <tr>\n",
       "      <th>1083</th>\n",
       "      <td>Mænd</td>\n",
       "      <td>35-39 år</td>\n",
       "      <td>Grundskole</td>\n",
       "      <td>Efter 1 år og indenfor 2 år</td>\n",
       "      <td>2012:2014</td>\n",
       "    </tr>\n",
       "  </tbody>\n",
       "</table>\n",
       "</div>"
      ],
      "text/plain": [
       "          KØN    ALDER1            UDDANNELSE                   VARTILBAGE  \\\n",
       "1045     Mænd  35-39 år            Grundskole            Ingen tilbagefald   \n",
       "3895  Kvinder  50-59 år    Uoplyst uddannelse  Efter 1 år og indenfor 2 år   \n",
       "1141     Mænd  35-39 år  Gymnasial uddannelse  Efter 1 år og indenfor 2 år   \n",
       "3393  Kvinder  40-49 år            Grundskole         I løbet af 6 måneder   \n",
       "1083     Mænd  35-39 år            Grundskole  Efter 1 år og indenfor 2 år   \n",
       "\n",
       "            TID  \n",
       "1045  2013:2015  \n",
       "3895  2016:2018  \n",
       "1141  2018:2020  \n",
       "3393  2008:2010  \n",
       "1083  2012:2014  "
      ]
     },
     "execution_count": 31,
     "metadata": {},
     "output_type": "execute_result"
    }
   ],
   "source": [
    "# Get a sample from the datafrane with only the categorical columns\n",
    "df[data_column_category].sample(5)"
   ]
  },
  {
   "cell_type": "code",
   "execution_count": 32,
   "id": "f1c52674",
   "metadata": {},
   "outputs": [],
   "source": [
    "label_encoder = LabelEncoder()"
   ]
  },
  {
   "cell_type": "code",
   "execution_count": 33,
   "id": "b137ebfc",
   "metadata": {},
   "outputs": [],
   "source": [
    "# Make a copy of the DataFrame\n",
    "df_label_encoded = df.copy()"
   ]
  },
  {
   "cell_type": "code",
   "execution_count": 34,
   "id": "aa6db7ba",
   "metadata": {},
   "outputs": [],
   "source": [
    "# Performing label encoding\n",
    "for i in data_column_category:\n",
    "    df_label_encoded[i] = label_encoder.fit_transform(df_label_encoded[i])"
   ]
  },
  {
   "cell_type": "code",
   "execution_count": 35,
   "id": "754fc701",
   "metadata": {},
   "outputs": [
    {
     "name": "stdout",
     "output_type": "stream",
     "text": [
      "Label Encoded Data: \n"
     ]
    },
    {
     "data": {
      "text/html": [
       "<div>\n",
       "<style scoped>\n",
       "    .dataframe tbody tr th:only-of-type {\n",
       "        vertical-align: middle;\n",
       "    }\n",
       "\n",
       "    .dataframe tbody tr th {\n",
       "        vertical-align: top;\n",
       "    }\n",
       "\n",
       "    .dataframe thead th {\n",
       "        text-align: right;\n",
       "    }\n",
       "</style>\n",
       "<table border=\"1\" class=\"dataframe\">\n",
       "  <thead>\n",
       "    <tr style=\"text-align: right;\">\n",
       "      <th></th>\n",
       "      <th>KØN</th>\n",
       "      <th>ALDER1</th>\n",
       "      <th>UDDANNELSE</th>\n",
       "      <th>VARTILBAGE</th>\n",
       "      <th>TID</th>\n",
       "      <th>INDHOLD</th>\n",
       "    </tr>\n",
       "  </thead>\n",
       "  <tbody>\n",
       "    <tr>\n",
       "      <th>1633</th>\n",
       "      <td>1</td>\n",
       "      <td>6</td>\n",
       "      <td>2</td>\n",
       "      <td>2</td>\n",
       "      <td>8</td>\n",
       "      <td>80</td>\n",
       "    </tr>\n",
       "    <tr>\n",
       "      <th>1008</th>\n",
       "      <td>1</td>\n",
       "      <td>3</td>\n",
       "      <td>3</td>\n",
       "      <td>2</td>\n",
       "      <td>7</td>\n",
       "      <td>159</td>\n",
       "    </tr>\n",
       "    <tr>\n",
       "      <th>700</th>\n",
       "      <td>1</td>\n",
       "      <td>2</td>\n",
       "      <td>4</td>\n",
       "      <td>2</td>\n",
       "      <td>11</td>\n",
       "      <td>171</td>\n",
       "    </tr>\n",
       "    <tr>\n",
       "      <th>1257</th>\n",
       "      <td>1</td>\n",
       "      <td>4</td>\n",
       "      <td>3</td>\n",
       "      <td>3</td>\n",
       "      <td>9</td>\n",
       "      <td>548</td>\n",
       "    </tr>\n",
       "    <tr>\n",
       "      <th>1772</th>\n",
       "      <td>1</td>\n",
       "      <td>6</td>\n",
       "      <td>3</td>\n",
       "      <td>3</td>\n",
       "      <td>4</td>\n",
       "      <td>608</td>\n",
       "    </tr>\n",
       "  </tbody>\n",
       "</table>\n",
       "</div>"
      ],
      "text/plain": [
       "      KØN  ALDER1  UDDANNELSE  VARTILBAGE  TID  INDHOLD\n",
       "1633    1       6           2           2    8       80\n",
       "1008    1       3           3           2    7      159\n",
       "700     1       2           4           2   11      171\n",
       "1257    1       4           3           3    9      548\n",
       "1772    1       6           3           3    4      608"
      ]
     },
     "execution_count": 35,
     "metadata": {},
     "output_type": "execute_result"
    }
   ],
   "source": [
    "# View the label encoded data\n",
    "print(\"Label Encoded Data: \")\n",
    "df_label_encoded.sample(5)"
   ]
  },
  {
   "cell_type": "code",
   "execution_count": 36,
   "id": "e7287283",
   "metadata": {},
   "outputs": [],
   "source": [
    "# Construct the path\n",
    "directory = f\"../Data/{table_name}\"\n",
    "filename = f\"Encoded{table_name}.csv\"\n",
    "filepath = os.path.join(directory, filename)\n",
    "\n",
    "# Ensure the directory exists\n",
    "os.makedirs(directory, exist_ok=True)\n",
    "\n",
    "# Save the DataFrame\n",
    "df_label_encoded.to_csv(filepath, index=False)"
   ]
  }
 ],
 "metadata": {
  "kernelspec": {
   "display_name": "base",
   "language": "python",
   "name": "python3"
  },
  "language_info": {
   "codemirror_mode": {
    "name": "ipython",
    "version": 3
   },
   "file_extension": ".py",
   "mimetype": "text/x-python",
   "name": "python",
   "nbconvert_exporter": "python",
   "pygments_lexer": "ipython3",
   "version": "3.12.7"
  }
 },
 "nbformat": 4,
 "nbformat_minor": 5
}
