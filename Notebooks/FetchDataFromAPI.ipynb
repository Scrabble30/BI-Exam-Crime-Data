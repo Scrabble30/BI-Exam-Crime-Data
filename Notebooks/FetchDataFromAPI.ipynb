{
 "cells": [
  {
   "cell_type": "code",
   "execution_count": 59,
   "id": "62b63696",
   "metadata": {},
   "outputs": [],
   "source": [
    "import sys\n",
    "import os\n",
    "sys.path.append(os.path.abspath(\"..\"))\n",
    "\n",
    "# Start by importing necessary packages\n",
    "import pandas as pd\n",
    "\n",
    "from dstapi.dstapi import DstApi"
   ]
  },
  {
   "cell_type": "code",
   "execution_count": 60,
   "id": "751bd296",
   "metadata": {},
   "outputs": [
    {
     "name": "stdout",
     "output_type": "stream",
     "text": [
      "Table RECIDIV9: Personer efter køn, alder, uddannelse, recidiv hændelser og tid\n",
      "Last update: 2024-11-07T08:00:00\n"
     ]
    },
    {
     "data": {
      "text/html": [
       "<div>\n",
       "<style scoped>\n",
       "    .dataframe tbody tr th:only-of-type {\n",
       "        vertical-align: middle;\n",
       "    }\n",
       "\n",
       "    .dataframe tbody tr th {\n",
       "        vertical-align: top;\n",
       "    }\n",
       "\n",
       "    .dataframe thead th {\n",
       "        text-align: right;\n",
       "    }\n",
       "</style>\n",
       "<table border=\"1\" class=\"dataframe\">\n",
       "  <thead>\n",
       "    <tr style=\"text-align: right;\">\n",
       "      <th></th>\n",
       "      <th>variable name</th>\n",
       "      <th># values</th>\n",
       "      <th>First value</th>\n",
       "      <th>First value label</th>\n",
       "      <th>Last value</th>\n",
       "      <th>Last value label</th>\n",
       "      <th>Time variable</th>\n",
       "    </tr>\n",
       "  </thead>\n",
       "  <tbody>\n",
       "    <tr>\n",
       "      <th>0</th>\n",
       "      <td>KØN</td>\n",
       "      <td>3</td>\n",
       "      <td>TOT</td>\n",
       "      <td>I alt</td>\n",
       "      <td>K</td>\n",
       "      <td>Kvinder</td>\n",
       "      <td>False</td>\n",
       "    </tr>\n",
       "    <tr>\n",
       "      <th>1</th>\n",
       "      <td>ALDER1</td>\n",
       "      <td>9</td>\n",
       "      <td>00</td>\n",
       "      <td>I alt</td>\n",
       "      <td>6099</td>\n",
       "      <td>60 år og derover</td>\n",
       "      <td>False</td>\n",
       "    </tr>\n",
       "    <tr>\n",
       "      <th>2</th>\n",
       "      <td>UDDANNELSE</td>\n",
       "      <td>6</td>\n",
       "      <td>TOT</td>\n",
       "      <td>I alt</td>\n",
       "      <td>00</td>\n",
       "      <td>Uoplyst uddannelse</td>\n",
       "      <td>False</td>\n",
       "    </tr>\n",
       "    <tr>\n",
       "      <th>3</th>\n",
       "      <td>RECHEN</td>\n",
       "      <td>7</td>\n",
       "      <td>00</td>\n",
       "      <td>I alt</td>\n",
       "      <td>111</td>\n",
       "      <td>10 eller flere tilbagefald</td>\n",
       "      <td>False</td>\n",
       "    </tr>\n",
       "    <tr>\n",
       "      <th>4</th>\n",
       "      <td>Tid</td>\n",
       "      <td>13</td>\n",
       "      <td>2008:2010</td>\n",
       "      <td>2008:2010</td>\n",
       "      <td>2020:2022</td>\n",
       "      <td>2020:2022</td>\n",
       "      <td>True</td>\n",
       "    </tr>\n",
       "  </tbody>\n",
       "</table>\n",
       "</div>"
      ],
      "text/plain": [
       "  variable name  # values First value First value label Last value  \\\n",
       "0           KØN         3         TOT             I alt          K   \n",
       "1        ALDER1         9          00             I alt       6099   \n",
       "2    UDDANNELSE         6         TOT             I alt         00   \n",
       "3        RECHEN         7          00             I alt        111   \n",
       "4           Tid        13   2008:2010         2008:2010  2020:2022   \n",
       "\n",
       "             Last value label  Time variable  \n",
       "0                     Kvinder          False  \n",
       "1            60 år og derover          False  \n",
       "2          Uoplyst uddannelse          False  \n",
       "3  10 eller flere tilbagefald          False  \n",
       "4                   2020:2022           True  "
      ]
     },
     "execution_count": 60,
     "metadata": {},
     "output_type": "execute_result"
    }
   ],
   "source": [
    "# Initialize the class with the target table\n",
    "data_table = DstApi('RECIDIV9')\n",
    "\n",
    "# Get the table summary\n",
    "data_table.tablesummary(language='da')"
   ]
  },
  {
   "cell_type": "code",
   "execution_count": null,
   "id": "ccdd61c1",
   "metadata": {},
   "outputs": [
    {
     "data": {
      "text/plain": [
       "{'table': 'recidiv9',\n",
       " 'format': 'csv',\n",
       " 'lang': 'da',\n",
       " 'variables': [{'code': 'KØN', 'values': ['*']},\n",
       "  {'code': 'ALDER1', 'values': ['*']},\n",
       "  {'code': 'UDDANNELSE', 'values': ['*']},\n",
       "  {'code': 'RECHEN', 'values': ['*']},\n",
       "  {'code': 'Tid', 'values': ['*']}]}"
      ]
     },
     "execution_count": 61,
     "metadata": {},
     "output_type": "execute_result"
    }
   ],
   "source": [
    "# Start by constructing a basic dictionary\n",
    "params = data_table.define_base_params(language='da')\n",
    "params['format'] = 'csv'\n",
    "\n",
    "params"
   ]
  },
  {
   "cell_type": "code",
   "execution_count": 62,
   "id": "4216f75a",
   "metadata": {},
   "outputs": [],
   "source": [
    "# Go through all values and extract all their possible values\n",
    "for var in params['variables']:\n",
    "  # Extract all possible values for this column\n",
    "  levels = data_table.variable_levels(var['code'], language='da')\n",
    "\n",
    "  # Exclude the \"I alt\" data entry\n",
    "  levels = levels[levels['text'] != 'I alt']\n",
    "\n",
    "  # Override the existing values with the extracted filtered values\n",
    "  var['values'] = levels['id'].tolist()"
   ]
  },
  {
   "cell_type": "code",
   "execution_count": 63,
   "id": "d065e93d",
   "metadata": {},
   "outputs": [
    {
     "data": {
      "text/plain": [
       "{'table': 'recidiv9',\n",
       " 'format': 'csv',\n",
       " 'lang': 'da',\n",
       " 'variables': [{'code': 'KØN', 'values': ['M', 'K']},\n",
       "  {'code': 'ALDER1',\n",
       "   'values': ['1519', '2024', '2529', '3034', '3539', '4049', '5059', '6099']},\n",
       "  {'code': 'UDDANNELSE', 'values': ['10', '20', '35', '40', '00']},\n",
       "  {'code': 'RECHEN', 'values': ['106', '107', '108', '109', '110', '111']},\n",
       "  {'code': 'Tid',\n",
       "   'values': ['2008:2010',\n",
       "    '2009:2011',\n",
       "    '2010:2012',\n",
       "    '2011:2013',\n",
       "    '2012:2014',\n",
       "    '2013:2015',\n",
       "    '2014:2016',\n",
       "    '2015:2017',\n",
       "    '2016:2018',\n",
       "    '2017:2019',\n",
       "    '2018:2020',\n",
       "    '2019:2021',\n",
       "    '2020:2022']}]}"
      ]
     },
     "execution_count": 63,
     "metadata": {},
     "output_type": "execute_result"
    }
   ],
   "source": [
    "params"
   ]
  },
  {
   "cell_type": "code",
   "execution_count": 64,
   "id": "6fd2d7bc",
   "metadata": {},
   "outputs": [],
   "source": [
    "# Fetch all the data from the table with the specified params\n",
    "df = data_table.get_data(params=params)"
   ]
  },
  {
   "cell_type": "code",
   "execution_count": 65,
   "id": "df05552f",
   "metadata": {},
   "outputs": [
    {
     "data": {
      "text/plain": [
       "(6240, 6)"
      ]
     },
     "execution_count": 65,
     "metadata": {},
     "output_type": "execute_result"
    }
   ],
   "source": [
    "df.shape"
   ]
  },
  {
   "cell_type": "code",
   "execution_count": 66,
   "id": "f660a79e",
   "metadata": {},
   "outputs": [
    {
     "data": {
      "text/html": [
       "<div>\n",
       "<style scoped>\n",
       "    .dataframe tbody tr th:only-of-type {\n",
       "        vertical-align: middle;\n",
       "    }\n",
       "\n",
       "    .dataframe tbody tr th {\n",
       "        vertical-align: top;\n",
       "    }\n",
       "\n",
       "    .dataframe thead th {\n",
       "        text-align: right;\n",
       "    }\n",
       "</style>\n",
       "<table border=\"1\" class=\"dataframe\">\n",
       "  <thead>\n",
       "    <tr style=\"text-align: right;\">\n",
       "      <th></th>\n",
       "      <th>KØN</th>\n",
       "      <th>ALDER1</th>\n",
       "      <th>UDDANNELSE</th>\n",
       "      <th>RECHEN</th>\n",
       "      <th>TID</th>\n",
       "      <th>INDHOLD</th>\n",
       "    </tr>\n",
       "  </thead>\n",
       "  <tbody>\n",
       "    <tr>\n",
       "      <th>0</th>\n",
       "      <td>Mænd</td>\n",
       "      <td>15-19 år</td>\n",
       "      <td>Grundskole</td>\n",
       "      <td>Ingen tilbagefald</td>\n",
       "      <td>2008:2010</td>\n",
       "      <td>3502</td>\n",
       "    </tr>\n",
       "    <tr>\n",
       "      <th>1</th>\n",
       "      <td>Mænd</td>\n",
       "      <td>15-19 år</td>\n",
       "      <td>Grundskole</td>\n",
       "      <td>Ingen tilbagefald</td>\n",
       "      <td>2009:2011</td>\n",
       "      <td>3727</td>\n",
       "    </tr>\n",
       "    <tr>\n",
       "      <th>2</th>\n",
       "      <td>Mænd</td>\n",
       "      <td>15-19 år</td>\n",
       "      <td>Grundskole</td>\n",
       "      <td>Ingen tilbagefald</td>\n",
       "      <td>2010:2012</td>\n",
       "      <td>3137</td>\n",
       "    </tr>\n",
       "    <tr>\n",
       "      <th>3</th>\n",
       "      <td>Mænd</td>\n",
       "      <td>15-19 år</td>\n",
       "      <td>Grundskole</td>\n",
       "      <td>Ingen tilbagefald</td>\n",
       "      <td>2011:2013</td>\n",
       "      <td>3147</td>\n",
       "    </tr>\n",
       "    <tr>\n",
       "      <th>4</th>\n",
       "      <td>Mænd</td>\n",
       "      <td>15-19 år</td>\n",
       "      <td>Grundskole</td>\n",
       "      <td>Ingen tilbagefald</td>\n",
       "      <td>2012:2014</td>\n",
       "      <td>3000</td>\n",
       "    </tr>\n",
       "  </tbody>\n",
       "</table>\n",
       "</div>"
      ],
      "text/plain": [
       "    KØN    ALDER1  UDDANNELSE             RECHEN        TID  INDHOLD\n",
       "0  Mænd  15-19 år  Grundskole  Ingen tilbagefald  2008:2010     3502\n",
       "1  Mænd  15-19 år  Grundskole  Ingen tilbagefald  2009:2011     3727\n",
       "2  Mænd  15-19 år  Grundskole  Ingen tilbagefald  2010:2012     3137\n",
       "3  Mænd  15-19 år  Grundskole  Ingen tilbagefald  2011:2013     3147\n",
       "4  Mænd  15-19 år  Grundskole  Ingen tilbagefald  2012:2014     3000"
      ]
     },
     "execution_count": 66,
     "metadata": {},
     "output_type": "execute_result"
    }
   ],
   "source": [
    "df.head()"
   ]
  }
 ],
 "metadata": {
  "kernelspec": {
   "display_name": "base",
   "language": "python",
   "name": "python3"
  },
  "language_info": {
   "codemirror_mode": {
    "name": "ipython",
    "version": 3
   },
   "file_extension": ".py",
   "mimetype": "text/x-python",
   "name": "python",
   "nbconvert_exporter": "python",
   "pygments_lexer": "ipython3",
   "version": "3.12.7"
  }
 },
 "nbformat": 4,
 "nbformat_minor": 5
}
